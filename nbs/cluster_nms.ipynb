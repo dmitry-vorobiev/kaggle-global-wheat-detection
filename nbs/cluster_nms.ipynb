{
 "cells": [
  {
   "cell_type": "code",
   "execution_count": 1,
   "metadata": {},
   "outputs": [],
   "source": [
    "import torch\n",
    "import sys\n",
    "\n",
    "from torch import Tensor"
   ]
  },
  {
   "cell_type": "code",
   "execution_count": 2,
   "metadata": {},
   "outputs": [],
   "source": [
    "sys.path.append(\"../src\")"
   ]
  },
  {
   "cell_type": "code",
   "execution_count": 3,
   "metadata": {},
   "outputs": [],
   "source": [
    "from nms.cluster_nms import diou"
   ]
  },
  {
   "cell_type": "code",
   "execution_count": 4,
   "metadata": {},
   "outputs": [],
   "source": [
    "state = torch.load(\"model_out.pth\")"
   ]
  },
  {
   "cell_type": "code",
   "execution_count": 6,
   "metadata": {},
   "outputs": [],
   "source": [
    "outs = state['box_outputs']\n",
    "outs = outs[-1]\n",
    "outs = outs.permute(0,2,3,1).reshape(outs.size(0), -1, 4)"
   ]
  },
  {
   "cell_type": "code",
   "execution_count": 7,
   "metadata": {},
   "outputs": [
    {
     "data": {
      "text/plain": [
       "torch.Size([5, 324, 4])"
      ]
     },
     "execution_count": 7,
     "metadata": {},
     "output_type": "execute_result"
    }
   ],
   "source": [
    "outs.shape"
   ]
  },
  {
   "cell_type": "code",
   "execution_count": 8,
   "metadata": {},
   "outputs": [],
   "source": [
    "def diou(box_a: Tensor, box_b: Tensor, gamma=0.9, eps=1e-8) -> Tensor:\n",
    "    assert box_a.ndim == 3\n",
    "    assert box_b.ndim == 3\n",
    "    assert box_a.size(0) == box_b.size(0)\n",
    "    \n",
    "    A, B = box_a.size(1), box_b.size(1)\n",
    "    box_a = box_a.unsqueeze(2).expand(-1, -1, A, -1)\n",
    "    box_b = box_b.unsqueeze(1).expand(-1, B, -1, -1)\n",
    "    \n",
    "    inter_yx0 = torch.max(box_a[..., :2], box_b[..., :2])\n",
    "    inter_yx1 = torch.min(box_a[..., 2:4], box_b[..., 2:4])\n",
    "    \n",
    "    inter_hw = torch.clamp_min_(inter_yx1 - inter_yx0, 0)\n",
    "    inter_area = torch.prod(inter_hw, dim=-1)\n",
    "    del inter_hw, inter_yx0, inter_yx1\n",
    "    \n",
    "    hw_a = box_a[..., 2:4] - box_a[..., :2]\n",
    "    hw_b = box_b[..., 2:4] - box_b[..., :2]\n",
    "    \n",
    "    area_a = torch.prod(hw_a, dim=-1)\n",
    "    area_b = torch.prod(hw_b, dim=-1)\n",
    "    \n",
    "    union_area = area_a + area_b - inter_area\n",
    "    iou = inter_area / (union_area + eps)\n",
    "    del inter_area, union_area, area_a, area_b, hw_a, hw_b\n",
    "    \n",
    "    c_a = (box_a[..., :2] + box_a[..., 2:4]) / 2\n",
    "    c_b = (box_b[..., :2] + box_b[..., 2:4]) / 2\n",
    "    inter_diag = torch.pow(c_b - c_a, 2).sum(dim=-1)\n",
    "    \n",
    "    clos_yx0 = torch.min(box_a[..., :2], box_b[..., :2])\n",
    "    clos_yx1 = torch.max(box_a[..., 2:4], box_b[..., 2:4])\n",
    "    clos_hw = torch.clamp_min_(clos_yx1 - clos_yx0, 0)\n",
    "    clos_diag = torch.pow(clos_hw, 2).sum(dim=-1)\n",
    "    del clos_yx0, clos_yx1, clos_hw\n",
    "    \n",
    "    dist = inter_diag / (clos_diag + eps)\n",
    "    return iou - dist ** gamma"
   ]
  },
  {
   "cell_type": "code",
   "execution_count": 25,
   "metadata": {},
   "outputs": [
    {
     "data": {
      "text/plain": [
       "(torch.Size([310, 4]), torch.Size([5, 310]))"
      ]
     },
     "execution_count": 25,
     "metadata": {},
     "output_type": "execute_result"
    }
   ],
   "source": [
    "N, D = outs.shape[:2]\n",
    "C = 5\n",
    "\n",
    "# [classes, detections]\n",
    "cur_scores = torch.rand(C, D)\n",
    "# [detections]\n",
    "conf_scores, _ = torch.max(cur_scores, dim=0)\n",
    "\n",
    "keep = conf_scores >= 0.5\n",
    "scores = cur_scores[:, keep]\n",
    "boxes = outs[0, keep, :]\n",
    "\n",
    "boxes.shape, scores.shape"
   ]
  },
  {
   "cell_type": "code",
   "execution_count": 81,
   "metadata": {},
   "outputs": [],
   "source": [
    "def cc_cluster_diounms(boxes, scores, iou_threshold=0.5, top_k=200):\n",
    "    assert boxes.ndim == 2\n",
    "    assert boxes.size(-1) == 4\n",
    "    \n",
    "    scores, classes = torch.max(scores, dim=0)\n",
    "    # scores: [detections]\n",
    "    _, idx = scores.sort(0, descending=True)\n",
    "    idx = idx[:top_k]\n",
    "    top_k_boxes = boxes[idx][None, ...]\n",
    "    \n",
    "    # [1, top_k, top_k] -> [top_k, top_k]\n",
    "    iou = diou(top_k_boxes, top_k_boxes)[0].triu_(diagonal=1)\n",
    "    best_iou = torch.zeros(top_k)\n",
    "    \n",
    "    for i in range(top_k):\n",
    "        iou0 = iou\n",
    "        best_iou, _ = torch.max(iou, dim=0)\n",
    "        keep = (best_iou <= iou_threshold)[:, None].expand_as(iou)\n",
    "        iou = torch.where(keep, iou, torch.zeros_like(iou))\n",
    "        \n",
    "        if (iou == iou0).all():\n",
    "            print(i)\n",
    "            break\n",
    "    \n",
    "    # filter out boxes, that are too close to each other\n",
    "    idx = idx[best_iou <= iou_threshold]\n",
    "    return boxes[idx], scores[idx], classes[idx]"
   ]
  },
  {
   "cell_type": "code",
   "execution_count": 82,
   "metadata": {},
   "outputs": [
    {
     "name": "stdout",
     "output_type": "stream",
     "text": [
      "0\n"
     ]
    },
    {
     "data": {
      "text/plain": [
       "(torch.Size([200, 4]), torch.Size([200]), torch.Size([200]))"
      ]
     },
     "execution_count": 82,
     "metadata": {},
     "output_type": "execute_result"
    }
   ],
   "source": [
    "pred_boxes, pred_scores, pred_classes = cc_cluster_diounms(boxes, scores, iou_threshold=0.5)\n",
    "\n",
    "pred_boxes.shape, pred_scores.shape, pred_classes.shape"
   ]
  }
 ],
 "metadata": {
  "kernelspec": {
   "display_name": "Python [conda env:latest] *",
   "language": "python",
   "name": "conda-env-latest-py"
  },
  "language_info": {
   "codemirror_mode": {
    "name": "ipython",
    "version": 3
   },
   "file_extension": ".py",
   "mimetype": "text/x-python",
   "name": "python",
   "nbconvert_exporter": "python",
   "pygments_lexer": "ipython3",
   "version": "3.7.7"
  }
 },
 "nbformat": 4,
 "nbformat_minor": 4
}
