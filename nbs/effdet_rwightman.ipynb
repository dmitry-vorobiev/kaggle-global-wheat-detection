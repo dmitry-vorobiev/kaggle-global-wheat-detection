{
 "cells": [
  {
   "cell_type": "code",
   "execution_count": 1,
   "metadata": {},
   "outputs": [],
   "source": [
    "from effdet.efficientdet import EfficientDet\n",
    "from effdet import create_model\n",
    "from effdet import default_detection_model_configs\n",
    "from effdet.config.model_config import efficientdet_model_param_dict\n",
    "from effdet import load_checkpoint, load_pretrained\n",
    "\n",
    "from omegaconf import OmegaConf"
   ]
  },
  {
   "cell_type": "code",
   "execution_count": 2,
   "metadata": {},
   "outputs": [],
   "source": [
    "def get_efficientdet_config(model_name='tf_efficientdet_d1'):\n",
    "    \"\"\"Get the default config for EfficientDet based on model name.\"\"\"\n",
    "    h = default_detection_model_configs()\n",
    "    # h.update(efficientdet_model_param_dict[model_name])\n",
    "    # return h\n",
    "    model_conf = efficientdet_model_param_dict['tf_efficientdet_d1']\n",
    "    return OmegaConf.merge(h, OmegaConf.create(model_conf))"
   ]
  },
  {
   "cell_type": "code",
   "execution_count": 3,
   "metadata": {},
   "outputs": [],
   "source": [
    "def create_model(\n",
    "        model_name, bench_task='', pretrained=False, checkpoint_path='', checkpoint_ema=False, **kwargs):\n",
    "    config = get_efficientdet_config(model_name)\n",
    "\n",
    "    pretrained_backbone = kwargs.pop('pretrained_backbone', True)\n",
    "    if pretrained or checkpoint_path:\n",
    "        pretrained_backbone = False  # no point in loading backbone weights\n",
    "\n",
    "    redundant_bias = kwargs.pop('redundant_bias', None)\n",
    "    if redundant_bias is not None:\n",
    "        # override config if set to something\n",
    "        config.redundant_bias = redundant_bias\n",
    "\n",
    "    model = EfficientDet(config, pretrained_backbone=pretrained_backbone, **kwargs)\n",
    "\n",
    "    # FIXME handle different head classes / anchors and re-init of necessary layers w/ pretrained load\n",
    "\n",
    "    if checkpoint_path:\n",
    "        load_checkpoint(model, checkpoint_path, use_ema=checkpoint_ema)\n",
    "    elif pretrained:\n",
    "        load_pretrained(model, config.url)\n",
    "\n",
    "    # wrap model in task specific bench if set\n",
    "    if bench_task == 'train':\n",
    "        model = DetBenchTrain(model, config)\n",
    "    elif bench_task == 'predict':\n",
    "        model = DetBenchPredict(model, config)\n",
    "    return model"
   ]
  },
  {
   "cell_type": "code",
   "execution_count": 4,
   "metadata": {},
   "outputs": [],
   "source": [
    "model = create_model(\n",
    "    'tf_efficientdet_d1', \n",
    "    bench_task='',\n",
    "    pretrained=False,\n",
    "    pretrained_backbone=True,\n",
    "    redundant_bias=None,\n",
    "    # checkpoint_path='path/to/checkpoint'\n",
    ")"
   ]
  }
 ],
 "metadata": {
  "kernelspec": {
   "display_name": "Python [conda env:latest] *",
   "language": "python",
   "name": "conda-env-latest-py"
  },
  "language_info": {
   "codemirror_mode": {
    "name": "ipython",
    "version": 3
   },
   "file_extension": ".py",
   "mimetype": "text/x-python",
   "name": "python",
   "nbconvert_exporter": "python",
   "pygments_lexer": "ipython3",
   "version": "3.7.7"
  }
 },
 "nbformat": 4,
 "nbformat_minor": 4
}
