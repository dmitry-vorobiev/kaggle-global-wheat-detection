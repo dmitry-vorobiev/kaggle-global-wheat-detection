{
 "cells": [
  {
   "cell_type": "code",
   "execution_count": 1,
   "metadata": {},
   "outputs": [],
   "source": [
    "import torch\n",
    "import sys\n",
    "\n",
    "from collections import OrderedDict\n",
    "from torch import nn\n",
    "from torchvision.models.inception import BasicConv2d, InceptionA, InceptionB, InceptionC"
   ]
  },
  {
   "cell_type": "code",
   "execution_count": 2,
   "metadata": {},
   "outputs": [],
   "source": [
    "sys.path.append('../src')"
   ]
  },
  {
   "cell_type": "code",
   "execution_count": 3,
   "metadata": {},
   "outputs": [],
   "source": [
    "from models.inception import Inception3_Encoder\n",
    "from models.style_augment import TransformNet"
   ]
  },
  {
   "cell_type": "code",
   "execution_count": 4,
   "metadata": {},
   "outputs": [],
   "source": [
    "# model = Inception3_Encoder()\n",
    "# cp = torch.load('../../style-augmentation/styleaug/checkpoints/checkpoint_stylepredictor.pth')\n",
    "# model.load_state_dict(cp['state_dict_stylepredictor'])"
   ]
  },
  {
   "cell_type": "code",
   "execution_count": 5,
   "metadata": {},
   "outputs": [],
   "source": [
    "device = torch.device('cuda:1')\n",
    "\n",
    "# x = torch.rand(6, 3, 299, 299).to(device)\n",
    "# model = model.to(device)"
   ]
  },
  {
   "cell_type": "code",
   "execution_count": 6,
   "metadata": {},
   "outputs": [],
   "source": [
    "net = TransformNet()"
   ]
  },
  {
   "cell_type": "code",
   "execution_count": 7,
   "metadata": {},
   "outputs": [],
   "source": [
    "net = net.to(device)"
   ]
  },
  {
   "cell_type": "code",
   "execution_count": 8,
   "metadata": {},
   "outputs": [],
   "source": [
    "N = 8\n",
    "S = 512\n",
    "\n",
    "x = torch.randn(N, 3, S, S).to(device)\n",
    "y = torch.randn(N, 100).to(device)"
   ]
  },
  {
   "cell_type": "code",
   "execution_count": 9,
   "metadata": {},
   "outputs": [
    {
     "data": {
      "text/plain": [
       "torch.Size([8, 3, 512, 512])"
      ]
     },
     "execution_count": 9,
     "metadata": {},
     "output_type": "execute_result"
    }
   ],
   "source": [
    "net(x, y).shape"
   ]
  },
  {
   "cell_type": "code",
   "execution_count": 10,
   "metadata": {},
   "outputs": [],
   "source": [
    "cp = torch.load('../../style-augmentation/styleaug/checkpoints/checkpoint_transformer.pth')"
   ]
  },
  {
   "cell_type": "code",
   "execution_count": 11,
   "metadata": {},
   "outputs": [],
   "source": [
    "def port_transformer_weights(source):\n",
    "    dest = dict()\n",
    "    \n",
    "    # encoder\n",
    "    for i in range(3):\n",
    "        for name in ['weight', 'bias']:\n",
    "            name_source = 'layers.%d.conv.%s' % (i, name)\n",
    "            name_dest = 'encoder.%d.conv.%s' % (i, name)\n",
    "            dest[name_dest] = source[name_source]\n",
    "            \n",
    "    # bottleneck\n",
    "    source_layers = ['conv', 'fc_beta', 'fc_gamma']\n",
    "    dest_layers = ['layers.conv', 'beta', 'gamma']\n",
    "    \n",
    "    for i in range(5):\n",
    "        for j in range(2):\n",
    "            for source_layer, dest_layer in zip(source_layers, dest_layers):\n",
    "                for name in ['weight', 'bias']:\n",
    "                    name_source = 'layers.{}.{}.{}'.format(i + 3, source_layer + str(j +1 ), name)\n",
    "                    name_dest = 'layers.{}.conv{}.{}.{}'.format(i, j + 1, dest_layer, name)\n",
    "                    dest[name_dest] = source[name_source]\n",
    "                    \n",
    "    # decoder\n",
    "    for i in range(3):\n",
    "        for source_layer, dest_layer in zip(source_layers, dest_layers):\n",
    "                for name in ['weight', 'bias']:\n",
    "                    name_source = 'layers.{}.{}.{}'.format(i + 8, source_layer, name)\n",
    "                    name_dest = 'layers.{}.{}.{}'.format(i + 5, dest_layer, name)\n",
    "                    dest[name_dest] = source[name_source]\n",
    "                    \n",
    "    return dest"
   ]
  },
  {
   "cell_type": "code",
   "execution_count": 12,
   "metadata": {},
   "outputs": [],
   "source": [
    "weights = port_transformer_weights(cp['state_dict_ghiasi'])"
   ]
  },
  {
   "cell_type": "code",
   "execution_count": 13,
   "metadata": {},
   "outputs": [
    {
     "data": {
      "text/plain": [
       "<All keys matched successfully>"
      ]
     },
     "execution_count": 13,
     "metadata": {},
     "output_type": "execute_result"
    }
   ],
   "source": [
    "net.load_state_dict(weights)"
   ]
  }
 ],
 "metadata": {
  "kernelspec": {
   "display_name": "Python [conda env:latest] *",
   "language": "python",
   "name": "conda-env-latest-py"
  },
  "language_info": {
   "codemirror_mode": {
    "name": "ipython",
    "version": 3
   },
   "file_extension": ".py",
   "mimetype": "text/x-python",
   "name": "python",
   "nbconvert_exporter": "python",
   "pygments_lexer": "ipython3",
   "version": "3.7.7"
  }
 },
 "nbformat": 4,
 "nbformat_minor": 4
}
