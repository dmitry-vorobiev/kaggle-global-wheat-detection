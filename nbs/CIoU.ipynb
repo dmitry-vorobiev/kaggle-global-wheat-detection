{
 "cells": [
  {
   "cell_type": "code",
   "execution_count": 1,
   "metadata": {},
   "outputs": [],
   "source": [
    "import math\n",
    "import torch"
   ]
  },
  {
   "cell_type": "code",
   "execution_count": 2,
   "metadata": {},
   "outputs": [],
   "source": [
    "# https://github.com/Zzh-tju/CIoU/blob/master/layers/modules/multibox_loss.py#L11\n",
    "# https://github.com/ultralytics/yolov5/blob/master/utils/utils.py#L309"
   ]
  },
  {
   "cell_type": "code",
   "execution_count": 3,
   "metadata": {},
   "outputs": [],
   "source": [
    "def ciou(box_a, box_b, eps=1e-8):\n",
    "    if min(box_a.size(0), box_b.size(0)) == 0:\n",
    "        return torch.zeros(0)\n",
    "\n",
    "    hw_a = box_a[:, [2, 3]] - box_a[:, [0, 1]]\n",
    "    hw_a = torch.sigmoid(hw_a).exp()\n",
    "\n",
    "    hw_b = box_b[:, [2, 3]] - box_b[:, [0, 1]]\n",
    "    hw_b = torch.sigmoid(hw_b).exp()\n",
    "    \n",
    "    # Center points (y,x)\n",
    "    c_a = (box_a[:, [0, 1]] + box_a[:, [2, 3]]) / 2\n",
    "    c_a = torch.sigmoid(c_a)\n",
    "    \n",
    "    c_b = (box_b[:, [0, 1]] + box_b[:, [2, 3]]) / 2\n",
    "    c_b = torch.sigmoid(c_b)\n",
    "    \n",
    "    yx0_a = c_a - hw_a / 2\n",
    "    yx1_a = c_a + hw_a / 2\n",
    "    yx0_b = c_b - hw_b / 2\n",
    "    yx1_b = c_b + hw_b / 2\n",
    "    \n",
    "    # Intersection\n",
    "    inter_yx0 = torch.max(yx0_a, yx0_b)\n",
    "    inter_yx1 = torch.min(yx1_a, yx1_b)\n",
    "    inter_hw = torch.clamp_min(inter_yx1 - inter_yx0, 0)\n",
    "    \n",
    "    area_a = hw_a[:, 0] * hw_a[:, 1]\n",
    "    area_b = hw_b[:, 0] * hw_b[:, 1]\n",
    "    inter_area = inter_hw[:, 0] * inter_hw[:, 1]\n",
    "    union_area = area_a + area_b - inter_area   \n",
    "    iou = inter_area / (union_area + eps)\n",
    "    \n",
    "    # Enclosing box\n",
    "    clos_yx0 = torch.min(yx0_a, yx0_b)\n",
    "    clos_yx1 = torch.max(yx1_a, yx1_b)\n",
    "    clos_hw = torch.clamp_min(clos_yx1 - clos_yx0, 0)\n",
    "    \n",
    "    clos_diag = torch.pow(clos_hw, 2).sum(dim=1)\n",
    "    inter_diag = torch.pow(c_b - c_a, 2).sum(dim=1)\n",
    "    \n",
    "    u = inter_diag / (clos_diag + eps)\n",
    "    \n",
    "    # shape consistency term\n",
    "    v = torch.atan(hw_a[:, 0] / hw_a[:, 1]) - torch.atan(hw_b[:, 0] / hw_b[:, 1])\n",
    "    v = (4 / math.pi**2) * torch.pow(v, 2)\n",
    "    \n",
    "    with torch.no_grad():\n",
    "        s = iou > 0.5\n",
    "        alpha = s * v / ((1 - iou + v) + eps)\n",
    "    \n",
    "    ciou = iou - u - alpha * v\n",
    "    ciou = torch.clamp(ciou, -1, 1)\n",
    "    return ciou"
   ]
  },
  {
   "cell_type": "code",
   "execution_count": 4,
   "metadata": {},
   "outputs": [],
   "source": [
    "N = 10\n",
    "N2 = N * 2\n",
    "x0 = torch.randn(N2, 1)\n",
    "w = torch.randn(N2, 1) * 3\n",
    "\n",
    "y0 = torch.randn(N2, 1)\n",
    "h = torch.randn(N2, 1) * 3\n",
    "\n",
    "boxes = torch.cat([y0, x0, y0+h, x0+w], dim=1)\n",
    "box_a, box_b = torch.chunk(boxes, 2)"
   ]
  },
  {
   "cell_type": "code",
   "execution_count": 5,
   "metadata": {},
   "outputs": [
    {
     "data": {
      "text/plain": [
       "tensor(0.6868)"
      ]
     },
     "execution_count": 5,
     "metadata": {},
     "output_type": "execute_result"
    }
   ],
   "source": [
    "(1 - ciou(box_a, box_b)).mean()"
   ]
  },
  {
   "cell_type": "code",
   "execution_count": 6,
   "metadata": {},
   "outputs": [],
   "source": [
    "box_c = box_b.clone()\n",
    "box_c[:, [0, 1]] += torch.rand(N, 2) * 0."
   ]
  },
  {
   "cell_type": "code",
   "execution_count": 7,
   "metadata": {},
   "outputs": [
    {
     "data": {
      "text/plain": [
       "tensor(5.3644e-08)"
      ]
     },
     "execution_count": 7,
     "metadata": {},
     "output_type": "execute_result"
    }
   ],
   "source": [
    "(1 - ciou(box_a, box_a)).mean()"
   ]
  },
  {
   "cell_type": "code",
   "execution_count": 8,
   "metadata": {},
   "outputs": [],
   "source": [
    "import sys"
   ]
  },
  {
   "cell_type": "code",
   "execution_count": 9,
   "metadata": {},
   "outputs": [],
   "source": [
    "ex = torch.load('./model_out.pth')"
   ]
  },
  {
   "cell_type": "code",
   "execution_count": 10,
   "metadata": {},
   "outputs": [],
   "source": [
    "out = ex[\"box_outputs\"]\n",
    "trg = ex[\"box_targets\"]"
   ]
  },
  {
   "cell_type": "code",
   "execution_count": 11,
   "metadata": {},
   "outputs": [
    {
     "data": {
      "text/plain": [
       "torch.Size([5, 48, 48, 36])"
      ]
     },
     "execution_count": 11,
     "metadata": {},
     "output_type": "execute_result"
    }
   ],
   "source": [
    "trg[1].shape"
   ]
  },
  {
   "cell_type": "code",
   "execution_count": 12,
   "metadata": {},
   "outputs": [
    {
     "data": {
      "text/plain": [
       "(torch.Size([5, 6, 6, 36]), torch.Size([5, 6, 6, 36]))"
      ]
     },
     "execution_count": 12,
     "metadata": {},
     "output_type": "execute_result"
    }
   ],
   "source": [
    "t = trg[-1]\n",
    "p = out[-1].permute(0, 2, 3, 1)\n",
    "\n",
    "t.shape, p.shape"
   ]
  },
  {
   "cell_type": "code",
   "execution_count": 13,
   "metadata": {},
   "outputs": [],
   "source": [
    "o = ciou(t.reshape(-1, 4), p.reshape(-1, 4), eps=1e-8)"
   ]
  },
  {
   "cell_type": "code",
   "execution_count": 14,
   "metadata": {},
   "outputs": [
    {
     "data": {
      "text/plain": [
       "tensor(0.2129, device='cuda:1', grad_fn=<MeanBackward0>)"
      ]
     },
     "execution_count": 14,
     "metadata": {},
     "output_type": "execute_result"
    }
   ],
   "source": [
    "(1 - o).mean()"
   ]
  },
  {
   "cell_type": "code",
   "execution_count": 15,
   "metadata": {},
   "outputs": [
    {
     "data": {
      "text/plain": [
       "(torch.Size([1620]), tensor(1620, device='cuda:1'))"
      ]
     },
     "execution_count": 15,
     "metadata": {},
     "output_type": "execute_result"
    }
   ],
   "source": [
    "o.shape, torch.isfinite(o).sum()"
   ]
  }
 ],
 "metadata": {
  "kernelspec": {
   "display_name": "Python [conda env:latest] *",
   "language": "python",
   "name": "conda-env-latest-py"
  },
  "language_info": {
   "codemirror_mode": {
    "name": "ipython",
    "version": 3
   },
   "file_extension": ".py",
   "mimetype": "text/x-python",
   "name": "python",
   "nbconvert_exporter": "python",
   "pygments_lexer": "ipython3",
   "version": "3.7.7"
  }
 },
 "nbformat": 4,
 "nbformat_minor": 4
}
